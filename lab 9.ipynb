{
 "cells": [
  {
   "cell_type": "code",
   "execution_count": 73,
   "metadata": {},
   "outputs": [
    {
     "name": "stdout",
     "output_type": "stream",
     "text": [
      "········\n"
     ]
    }
   ],
   "source": [
    "from sqlalchemy import create_engine\n",
    "import pandas as pd\n",
    "import getpass  # To get the password without showing the input\n",
    "password = getpass.getpass()"
   ]
  },
  {
   "cell_type": "code",
   "execution_count": 104,
   "metadata": {},
   "outputs": [],
   "source": [
    "connection_string = 'mysql+pymysql://root:' + password + '@localhost/bank'\n",
    "engine = create_engine(connection_string)\n",
    "import numpy as np"
   ]
  },
  {
   "cell_type": "code",
   "execution_count": 111,
   "metadata": {},
   "outputs": [],
   "source": [
    "engine.execute(\"USE sakila\")\n",
    "query = \"SELECT c.first_name, c.last_name, r.customer_id, count(r.rental_id) as nr_of_rentals \\\n",
    "FROM rentals_june as r \\\n",
    "join customer as c \\\n",
    "on r.customer_id = c.customer_id \\\n",
    "group by c.last_name \\\n",
    "order by customer_id asc\"\n"
   ]
  },
  {
   "cell_type": "code",
   "execution_count": 112,
   "metadata": {},
   "outputs": [],
   "source": [
    "query2 = \"SELECT r.customer_id, count(r.rental_id) as nr_of_rentals \\\n",
    "FROM rentals_may as r \\\n",
    "join customer as c \\\n",
    "on r.customer_id = c.customer_id \\\n",
    "group by c.last_name \\\n",
    "order by customer_id asc\"\n"
   ]
  },
  {
   "cell_type": "code",
   "execution_count": 113,
   "metadata": {},
   "outputs": [],
   "source": [
    "def monthly_records(query,query2):\n",
    "    querydf = pd.read_sql_query(query, engine)\n",
    "    querydf = querydf.rename(columns={\"nr_of_rentals\": \"june_nr_of_rentals\"})\n",
    "    querydf2 = pd.read_sql_query(query2, engine)\n",
    "    querydf2= querydf2.rename(columns={\"nr_of_rentals\": \"may_nr_of_rentals\"})\n",
    "    rentals_records['june_nr_of_rentals'] = rentals_records['june_nr_of_rentals'].fillna(0)\n",
    "    rentals_records['may_nr_of_rentals'] = rentals_records['may_nr_of_rentals'].fillna(0)\n",
    "    may_list = rentals_records['may_nr_of_rentals'].tolist()\n",
    "    june_list =  rentals_records['june_nr_of_rentals'].tolist()\n",
    "    month=[]\n",
    "    for i in range(len(june_list)):\n",
    "        if may_list[i] > june_list[i]:\n",
    "            month.append('may')\n",
    "        elif june_list[i]> may_list[i]:\n",
    "            month.append('june')\n",
    "        else:\n",
    "            month.append('same')\n",
    "    rentals_records['month']=month\n",
    "    return rentals_records"
   ]
  },
  {
   "cell_type": "code",
   "execution_count": 114,
   "metadata": {
    "scrolled": true
   },
   "outputs": [],
   "source": [
    "rentals_records=monthly_records(query,query2)"
   ]
  },
  {
   "cell_type": "code",
   "execution_count": 119,
   "metadata": {},
   "outputs": [
    {
     "data": {
      "text/html": [
       "<div>\n",
       "<style scoped>\n",
       "    .dataframe tbody tr th:only-of-type {\n",
       "        vertical-align: middle;\n",
       "    }\n",
       "\n",
       "    .dataframe tbody tr th {\n",
       "        vertical-align: top;\n",
       "    }\n",
       "\n",
       "    .dataframe thead th {\n",
       "        text-align: right;\n",
       "    }\n",
       "</style>\n",
       "<table border=\"1\" class=\"dataframe\">\n",
       "  <thead>\n",
       "    <tr style=\"text-align: right;\">\n",
       "      <th></th>\n",
       "      <th>first_name</th>\n",
       "      <th>last_name</th>\n",
       "      <th>customer_id</th>\n",
       "      <th>june_nr_of_rentals</th>\n",
       "      <th>may_nr_of_rentals</th>\n",
       "      <th>month</th>\n",
       "    </tr>\n",
       "  </thead>\n",
       "  <tbody>\n",
       "    <tr>\n",
       "      <th>0</th>\n",
       "      <td>MARY</td>\n",
       "      <td>SMITH</td>\n",
       "      <td>1</td>\n",
       "      <td>7.0</td>\n",
       "      <td>2.0</td>\n",
       "      <td>june</td>\n",
       "    </tr>\n",
       "    <tr>\n",
       "      <th>1</th>\n",
       "      <td>PATRICIA</td>\n",
       "      <td>JOHNSON</td>\n",
       "      <td>2</td>\n",
       "      <td>1.0</td>\n",
       "      <td>1.0</td>\n",
       "      <td>same</td>\n",
       "    </tr>\n",
       "    <tr>\n",
       "      <th>2</th>\n",
       "      <td>LINDA</td>\n",
       "      <td>WILLIAMS</td>\n",
       "      <td>3</td>\n",
       "      <td>4.0</td>\n",
       "      <td>2.0</td>\n",
       "      <td>june</td>\n",
       "    </tr>\n",
       "    <tr>\n",
       "      <th>3</th>\n",
       "      <td>BARBARA</td>\n",
       "      <td>JONES</td>\n",
       "      <td>4</td>\n",
       "      <td>6.0</td>\n",
       "      <td>0.0</td>\n",
       "      <td>june</td>\n",
       "    </tr>\n",
       "    <tr>\n",
       "      <th>4</th>\n",
       "      <td>ELIZABETH</td>\n",
       "      <td>BROWN</td>\n",
       "      <td>5</td>\n",
       "      <td>5.0</td>\n",
       "      <td>3.0</td>\n",
       "      <td>june</td>\n",
       "    </tr>\n",
       "  </tbody>\n",
       "</table>\n",
       "</div>"
      ],
      "text/plain": [
       "  first_name last_name  customer_id  june_nr_of_rentals  may_nr_of_rentals  \\\n",
       "0       MARY     SMITH            1                 7.0                2.0   \n",
       "1   PATRICIA   JOHNSON            2                 1.0                1.0   \n",
       "2      LINDA  WILLIAMS            3                 4.0                2.0   \n",
       "3    BARBARA     JONES            4                 6.0                0.0   \n",
       "4  ELIZABETH     BROWN            5                 5.0                3.0   \n",
       "\n",
       "  month  \n",
       "0  june  \n",
       "1  same  \n",
       "2  june  \n",
       "3  june  \n",
       "4  june  "
      ]
     },
     "execution_count": 119,
     "metadata": {},
     "output_type": "execute_result"
    }
   ],
   "source": [
    "rentals_records.shape\n",
    "rentals_records.head()"
   ]
  },
  {
   "cell_type": "code",
   "execution_count": null,
   "metadata": {},
   "outputs": [],
   "source": []
  }
 ],
 "metadata": {
  "kernelspec": {
   "display_name": "Python 3",
   "language": "python",
   "name": "python3"
  },
  "language_info": {
   "codemirror_mode": {
    "name": "ipython",
    "version": 3
   },
   "file_extension": ".py",
   "mimetype": "text/x-python",
   "name": "python",
   "nbconvert_exporter": "python",
   "pygments_lexer": "ipython3",
   "version": "3.8.5"
  }
 },
 "nbformat": 4,
 "nbformat_minor": 4
}
